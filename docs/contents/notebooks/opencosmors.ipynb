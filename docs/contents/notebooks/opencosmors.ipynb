{
 "cells": [
  {
   "cell_type": "markdown",
   "id": "8e2d6403",
   "metadata": {},
   "source": [
    "# OpenCOSMO-RS \n",
    "\n",
    "This tutorial demonstrates how to perform an OpenCOSMO-RS calculation using the ORCA python interface (OPI) and combining it with the [openCOSMO-RS_py](https://github.com/TUHH-TVT/openCOSMO-RS_py) project to calculate sigma profiles and solubilities.\n",
    "\n",
    "In this notebook we will:\n",
    "1.  Import the required Python dependencies\n",
    "2.  Define a working directory\n",
    "3.  Prepare and visualize input structures\n",
    "4.  Run ORCA calculations with COSMO solvation\n",
    "5.  Parse .orcacosmo output files and extract sigma profiles\n",
    "6.  Compute solubility using openCOSMO-RS (non-iterative and iterative methods)"
   ]
  },
  {
   "cell_type": "markdown",
   "id": "070ef794",
   "metadata": {},
   "source": [
    "> **Note:** For this notebook to work you will have to install opencosmors_py from GitHub into your python environment:\n",
    "\n",
    "```\n",
    "pip install git+https://github.com/TUHH-TVT/openCOSMO-RS_py\n",
    "```\n",
    "\n",
    "For more details visit the [openCOSMO-RS_py](https://github.com/TUHH-TVT/openCOSMO-RS_py) project on GitHub."
   ]
  },
  {
   "cell_type": "markdown",
   "id": "9efa50ca",
   "metadata": {},
   "source": [
    "## Step 1: Import Dependencies\n",
    "\n",
    "We start by importing the modules needed for:\n",
    "- Interfacing with ORCA input/output\n",
    "- Plotting results\n",
    "- Numerical calculations and data handling\n",
    "- Handling for directory\n",
    "- Performing COSMO-RS calculations using the openCOSMO-RS library\n",
    "> **Note:** We additionally import modules for visualization/plotting like `py3Dmol`. For this, it might be necessary to install `py3Dmol` into your OPI `venv` (e.g., by activating the `.venv` and using `uv pip install py3Dmol`)."
   ]
  },
  {
   "cell_type": "code",
   "execution_count": 1,
   "id": "df4e7354",
   "metadata": {},
   "outputs": [],
   "source": [
    "# > Import pathlib for directory handling\n",
    "from pathlib import Path\n",
    "import shutil\n",
    "\n",
    "# > Import necessary libraries for numerical computations\n",
    "import numpy as np\n",
    "from scipy.optimize import fsolve\n",
    "\n",
    "# > Import the openCOSMO-RS library components\n",
    "from opencosmorspy.parameterization import openCOSMORS24a\n",
    "from opencosmorspy.cosmors import COSMORS\n",
    "from opencosmorspy.input_parsers import SigmaProfileParser\n",
    "\n",
    "# > OPI imports for performing ORCA calculations and reading output\n",
    "from opi.core import Calculator\n",
    "from opi.output.core import Output\n",
    "from opi.input.structures.structure import Structure\n",
    "from opi.input.simple_keywords import SolvationModel, Solvent\n",
    "\n",
    "# > Import libraries for visualization\n",
    "from matplotlib import pyplot as plt\n",
    "import py3Dmol"
   ]
  },
  {
   "cell_type": "markdown",
   "id": "eb47b6f0",
   "metadata": {},
   "source": [
    "## Step 2: Define Working directory\n",
    "\n",
    "All actual calculations will be performed in a subfolder **RUN**."
   ]
  },
  {
   "cell_type": "code",
   "execution_count": 2,
   "id": "dacfcb12",
   "metadata": {},
   "outputs": [],
   "source": [
    "# > Calculation is performed in `RUN`\n",
    "working_dir = Path(\"RUN\")\n",
    "# > The `working_dir`is automatically (re-)created\n",
    "shutil.rmtree(working_dir, ignore_errors=True)\n",
    "working_dir.mkdir()"
   ]
  },
  {
   "cell_type": "markdown",
   "id": "f7cd84d3",
   "metadata": {},
   "source": [
    "## Step 3: Prepare and Visualize Input Structures\n",
    "\n",
    "We use **water** as our example molecule. The 3D structure in Cartesian coordinates is defined in XYZ format and visualized."
   ]
  },
  {
   "cell_type": "code",
   "execution_count": 3,
   "id": "58f5cf3d",
   "metadata": {},
   "outputs": [
    {
     "data": {
      "application/3dmoljs_load.v0": "<div id=\"3dmolviewer_17506865433546946\"  style=\"position: relative; width: 400px; height: 400px;\">\n        <p id=\"3dmolwarning_17506865433546946\" style=\"background-color:#ffcccc;color:black\">3Dmol.js failed to load for some reason.  Please check your browser console for error messages.<br></p>\n        </div>\n<script>\n\nvar loadScriptAsync = function(uri){\n  return new Promise((resolve, reject) => {\n    //this is to ignore the existence of requirejs amd\n    var savedexports, savedmodule;\n    if (typeof exports !== 'undefined') savedexports = exports;\n    else exports = {}\n    if (typeof module !== 'undefined') savedmodule = module;\n    else module = {}\n\n    var tag = document.createElement('script');\n    tag.src = uri;\n    tag.async = true;\n    tag.onload = () => {\n        exports = savedexports;\n        module = savedmodule;\n        resolve();\n    };\n  var firstScriptTag = document.getElementsByTagName('script')[0];\n  firstScriptTag.parentNode.insertBefore(tag, firstScriptTag);\n});\n};\n\nif(typeof $3Dmolpromise === 'undefined') {\n$3Dmolpromise = null;\n  $3Dmolpromise = loadScriptAsync('https://cdn.jsdelivr.net/npm/3dmol@2.5.0/build/3Dmol-min.js');\n}\n\nvar viewer_17506865433546946 = null;\nvar warn = document.getElementById(\"3dmolwarning_17506865433546946\");\nif(warn) {\n    warn.parentNode.removeChild(warn);\n}\n$3Dmolpromise.then(function() {\nviewer_17506865433546946 = $3Dmol.createViewer(document.getElementById(\"3dmolviewer_17506865433546946\"),{backgroundColor:\"white\"});\nviewer_17506865433546946.zoomTo();\n\tviewer_17506865433546946.addModel(\"3\\n\\n  O  -0.0007948665470900  0.4014278382603300  0.0000000000000000\\n  H  -0.7647999815056600  -0.2022173883142000  0.0000000000000000\\n  H  0.7655948480527500  -0.1992104499461300  0.0000000000000000\\n\\n\",\"xyz\");\n\tviewer_17506865433546946.setStyle({},{\"stick\": {\"radius\": 0.1}, \"sphere\": {\"scale\": 0.3}});\n\tviewer_17506865433546946.zoomTo();\nviewer_17506865433546946.render();\n});\n</script>",
      "text/html": [
       "<div id=\"3dmolviewer_17506865433546946\"  style=\"position: relative; width: 400px; height: 400px;\">\n",
       "        <p id=\"3dmolwarning_17506865433546946\" style=\"background-color:#ffcccc;color:black\">3Dmol.js failed to load for some reason.  Please check your browser console for error messages.<br></p>\n",
       "        </div>\n",
       "<script>\n",
       "\n",
       "var loadScriptAsync = function(uri){\n",
       "  return new Promise((resolve, reject) => {\n",
       "    //this is to ignore the existence of requirejs amd\n",
       "    var savedexports, savedmodule;\n",
       "    if (typeof exports !== 'undefined') savedexports = exports;\n",
       "    else exports = {}\n",
       "    if (typeof module !== 'undefined') savedmodule = module;\n",
       "    else module = {}\n",
       "\n",
       "    var tag = document.createElement('script');\n",
       "    tag.src = uri;\n",
       "    tag.async = true;\n",
       "    tag.onload = () => {\n",
       "        exports = savedexports;\n",
       "        module = savedmodule;\n",
       "        resolve();\n",
       "    };\n",
       "  var firstScriptTag = document.getElementsByTagName('script')[0];\n",
       "  firstScriptTag.parentNode.insertBefore(tag, firstScriptTag);\n",
       "});\n",
       "};\n",
       "\n",
       "if(typeof $3Dmolpromise === 'undefined') {\n",
       "$3Dmolpromise = null;\n",
       "  $3Dmolpromise = loadScriptAsync('https://cdn.jsdelivr.net/npm/3dmol@2.5.0/build/3Dmol-min.js');\n",
       "}\n",
       "\n",
       "var viewer_17506865433546946 = null;\n",
       "var warn = document.getElementById(\"3dmolwarning_17506865433546946\");\n",
       "if(warn) {\n",
       "    warn.parentNode.removeChild(warn);\n",
       "}\n",
       "$3Dmolpromise.then(function() {\n",
       "viewer_17506865433546946 = $3Dmol.createViewer(document.getElementById(\"3dmolviewer_17506865433546946\"),{backgroundColor:\"white\"});\n",
       "viewer_17506865433546946.zoomTo();\n",
       "\tviewer_17506865433546946.addModel(\"3\\n\\n  O  -0.0007948665470900  0.4014278382603300  0.0000000000000000\\n  H  -0.7647999815056600  -0.2022173883142000  0.0000000000000000\\n  H  0.7655948480527500  -0.1992104499461300  0.0000000000000000\\n\\n\",\"xyz\");\n",
       "\tviewer_17506865433546946.setStyle({},{\"stick\": {\"radius\": 0.1}, \"sphere\": {\"scale\": 0.3}});\n",
       "\tviewer_17506865433546946.zoomTo();\n",
       "viewer_17506865433546946.render();\n",
       "});\n",
       "</script>"
      ]
     },
     "metadata": {},
     "output_type": "display_data"
    }
   ],
   "source": [
    "# > define cartesian coordinates in Angstroem as python string \n",
    "xyz_data = \"\"\"\\\n",
    "3\n",
    "\n",
    "  O  -0.0007948665470900  0.4014278382603300  0.0000000000000000\n",
    "  H  -0.7647999815056600  -0.2022173883142000  0.0000000000000000\n",
    "  H  0.7655948480527500  -0.1992104499461300  0.0000000000000000\\n\n",
    "\"\"\"\n",
    "# > Visualize the input structure\n",
    "view = py3Dmol.view(width=400, height=400)\n",
    "view.addModel(xyz_data, 'xyz')\n",
    "view.setStyle({}, {'stick': {'radius': 0.1}, 'sphere': {'scale': 0.3}})\n",
    "view.zoomTo()\n",
    "view.show()\n",
    "\n",
    "# > Write the input structure to a file for reading\n",
    "with open(working_dir / \"struc.xyz\",\"w\") as f:\n",
    "    f.write(xyz_data)\n",
    "\n",
    "# > Load the molecular structure from XYZ file\n",
    "structure = Structure.from_xyz(working_dir / \"struc.xyz\")"
   ]
  },
  {
   "cell_type": "markdown",
   "id": "8ab68e21",
   "metadata": {},
   "source": [
    "## Step 4: Calculation with OpenCOSMO-RS Solvation\n",
    "\n",
    "We run a caculation using the **OpenCOSMO-RS solvation model** with ethanol as the solvent. First, we set up the calculator:"
   ]
  },
  {
   "cell_type": "code",
   "execution_count": 4,
   "id": "bf0c5f26",
   "metadata": {},
   "outputs": [],
   "source": [
    "def setup_calc(basename : str, working_dir: Path, structure: Structure, ncores: int = 4) -> Calculator:\n",
    "    # > Set up a Calculator object\n",
    "    calc = Calculator(basename=basename, working_dir=working_dir)\n",
    "    # > Assign structure to calculator\n",
    "    calc.structure = structure\n",
    "\n",
    "    # > COSMO-RS simple keyword\n",
    "    calc.input.add_arbitrary_string(\"!COSMORS(ethanol)\")\n",
    "\n",
    "    # Define number of CPUs for the calcualtion\n",
    "    calc.input.ncores = ncores # > 4 CPUs for this ORCA run\n",
    "\n",
    "    return calc\n",
    "\n",
    "basename = \"opencosmors\"\n",
    "calc = setup_calc(basename=basename,working_dir=working_dir,structure=structure)"
   ]
  },
  {
   "cell_type": "markdown",
   "id": "6e546858",
   "metadata": {},
   "source": [
    "Next, we run the calculation:"
   ]
  },
  {
   "cell_type": "code",
   "execution_count": 5,
   "id": "f75d191d",
   "metadata": {},
   "outputs": [
    {
     "name": "stdout",
     "output_type": "stream",
     "text": [
      "Running ORCA calculation ...   Done\n"
     ]
    }
   ],
   "source": [
    "def run_calc(calc: Calculator) -> Output:\n",
    "    # > Write the ORCA input file\n",
    "    calc.write_input()\n",
    "    # > Run the ORCA calculation\n",
    "    print(\"Running ORCA calculation ...\", end=\"\")\n",
    "    calc.run()\n",
    "    print(\"   Done\")\n",
    "\n",
    "    # > Get the output object\n",
    "    output = calc.get_output()\n",
    "    \n",
    "    return output\n",
    "\n",
    "output = run_calc(calc)"
   ]
  },
  {
   "cell_type": "markdown",
   "id": "06069709",
   "metadata": {},
   "source": [
    "Finally, we check that the calculation did terminate normally and converged:"
   ]
  },
  {
   "cell_type": "code",
   "execution_count": 6,
   "id": "410ae0b7",
   "metadata": {},
   "outputs": [],
   "source": [
    "def check_termination(output: Output):\n",
    "    # > Check for proper termination of ORCA\n",
    "    status = output.terminated_normally()\n",
    "    if not status:\n",
    "        # > ORCA did not terminate normally\n",
    "        raise RuntimeError(f\"ORCA did not terminate normally, see output file: {output.get_outfile()}\")\n",
    "    \n",
    "check_termination(output)"
   ]
  },
  {
   "cell_type": "markdown",
   "id": "e129732b",
   "metadata": {},
   "source": [
    "## Step 5: Analyze COSMO Output and Sigma Profiles\n",
    "\n",
    "After the ORCA OpenCOSMO-RS calculation completes, we parse the resulting .orcacosmo files to:\n",
    "\n",
    "- Visualize the sigma profile (σ-profile)\n",
    "\n",
    "- Extract molecular descriptors such as dipole moment, surface area, volume, and hydrogen-bonding moments"
   ]
  },
  {
   "cell_type": "code",
   "execution_count": 7,
   "id": "e213f534",
   "metadata": {},
   "outputs": [
    {
     "data": {
      "image/png": "[encoded data removed]",
      "text/plain": [
       "<Figure size 640x480 with 1 Axes>"
      ]
     },
     "metadata": {},
     "output_type": "display_data"
    },
    {
     "name": "stdout",
     "output_type": "stream",
     "text": [
      "sigma_moments: [4.28977468e+01 7.90903554e-05 6.05283055e+01 3.89164821e+00\n",
      " 1.20345287e+02 1.77937287e+01 2.66092559e+02]\n",
      "hb_donor_moment: [5.11873012 2.60564439 0.85940158]\n",
      "hb_acceptor_moment: [5.76486365 3.31610676 1.37737025]\n",
      "energy_dielectric: -32.83919025918012\n",
      "dipole_moment: None\n",
      "area_total: 42.897746777517476\n",
      "volume: 25.36550524969701\n"
     ]
    },
    {
     "data": {
      "image/png": "[encoded data removed]",
      "text/plain": [
       "<Figure size 640x480 with 1 Axes>"
      ]
     },
     "metadata": {},
     "output_type": "display_data"
    },
    {
     "name": "stdout",
     "output_type": "stream",
     "text": [
      "sigma_moments: [ 8.95401962e+01 -3.52247325e-04  4.47559164e+01  1.76051131e+01\n",
      "  8.17805643e+01  4.88191312e+01  1.85692127e+02]\n",
      "hb_donor_moment: [2.30899094 1.1905562  0.38328986]\n",
      "hb_acceptor_moment: [4.83674399 2.87227988 1.31135965]\n",
      "energy_dielectric: -25.107211968398246\n",
      "dipole_moment: None\n",
      "area_total: 89.54019619110814\n",
      "volume: 68.36643463429641\n"
     ]
    }
   ],
   "source": [
    "def process_molecule(file_path: Path, name: str) -> None:\n",
    "    \"\"\"Process .orcacosmo file to visualize sigma profile and extract descriptors\"\"\"\n",
    "    spp = SigmaProfileParser(file_path)\n",
    "    \n",
    "    # > Generate sigma profile\n",
    "    sigmas, areas = spp.cluster_and_create_sigma_profile()\n",
    "    \n",
    "    plt.figure()\n",
    "    plt.title(name)\n",
    "    plt.plot(sigmas, areas)\n",
    "    plt.xlim([-0.03, 0.03])\n",
    "    plt.xlabel(\"σ (e/Å²)\")\n",
    "    plt.ylabel(\"Area (Å²)\")\n",
    "    plt.grid(True)\n",
    "    plt.tight_layout()\n",
    "    plt.show()\n",
    "\n",
    "    # > Calculate descriptors\n",
    "    spp.calculate_sigma_moments()\n",
    "    descriptors = {\n",
    "        'sigma_moments': spp['sigma_moments'],\n",
    "        'hb_donor_moment': spp['sigma_hydrogen_bond_donor_moments'][2:5],\n",
    "        'hb_acceptor_moment': spp['sigma_hydrogen_bond_acceptor_moments'][2:5],\n",
    "        'energy_dielectric': spp['energy_dielectric'],\n",
    "        'dipole_moment': spp['dipole_moment'],\n",
    "        'area_total': spp['area'],\n",
    "        'volume': spp['volume']\n",
    "    }\n",
    "    for key, value in descriptors.items():\n",
    "        print(f\"{key}: {value}\")\n",
    "\n",
    "# > Define paths to .orcacosmo files for the solute and solvent\n",
    "cosmo_files = {\n",
    "    'Water': working_dir / (basename + '.solute.orcacosmo'),\n",
    "    'Ethanol': working_dir / (basename + '.solvent.orcacosmo')\n",
    "}\n",
    "\n",
    "# > Loop through and process both solute and solvent\n",
    "for custom_name, file_path in cosmo_files.items():\n",
    "    process_molecule(file_path, name=custom_name)"
   ]
  },
  {
   "cell_type": "markdown",
   "id": "17b83733",
   "metadata": {},
   "source": [
    "## Step 6: Predict Solubility of Paracetamol Using openCOSMO-RS\n",
    "\n",
    "We use the openCOSMO-RS to calculate the activity coefficient (ln(γ)) and predict solubility using both:\n",
    "\n",
    "- A non-iterative method\n",
    "\n",
    "- An iterative method that solves the full equilibrium condition\n",
    "\n",
    "The results are printed and compared."
   ]
  },
  {
   "cell_type": "markdown",
   "id": "0fd6cca0",
   "metadata": {},
   "source": [
    "### Structure of Paracetamol:"
   ]
  },
  {
   "cell_type": "code",
   "execution_count": 8,
   "id": "69545af3",
   "metadata": {},
   "outputs": [
    {
     "data": {
      "application/3dmoljs_load.v0": "<div id=\"3dmolviewer_17506865518363774\"  style=\"position: relative; width: 400px; height: 400px;\">\n        <p id=\"3dmolwarning_17506865518363774\" style=\"background-color:#ffcccc;color:black\">3Dmol.js failed to load for some reason.  Please check your browser console for error messages.<br></p>\n        </div>\n<script>\n\nvar loadScriptAsync = function(uri){\n  return new Promise((resolve, reject) => {\n    //this is to ignore the existence of requirejs amd\n    var savedexports, savedmodule;\n    if (typeof exports !== 'undefined') savedexports = exports;\n    else exports = {}\n    if (typeof module !== 'undefined') savedmodule = module;\n    else module = {}\n\n    var tag = document.createElement('script');\n    tag.src = uri;\n    tag.async = true;\n    tag.onload = () => {\n        exports = savedexports;\n        module = savedmodule;\n        resolve();\n    };\n  var firstScriptTag = document.getElementsByTagName('script')[0];\n  firstScriptTag.parentNode.insertBefore(tag, firstScriptTag);\n});\n};\n\nif(typeof $3Dmolpromise === 'undefined') {\n$3Dmolpromise = null;\n  $3Dmolpromise = loadScriptAsync('https://cdn.jsdelivr.net/npm/3dmol@2.5.0/build/3Dmol-min.js');\n}\n\nvar viewer_17506865518363774 = null;\nvar warn = document.getElementById(\"3dmolwarning_17506865518363774\");\nif(warn) {\n    warn.parentNode.removeChild(warn);\n}\n$3Dmolpromise.then(function() {\nviewer_17506865518363774 = $3Dmol.createViewer(document.getElementById(\"3dmolviewer_17506865518363774\"),{backgroundColor:\"white\"});\nviewer_17506865518363774.zoomTo();\n\tviewer_17506865518363774.addModel(\"20\\nenergy: -32.783632377928 gnorm: 0.000608672974 xtb: 6.7.1 (edcfbbe)\\nC      2.88225    1.70760    0.08636\\nC      1.87583    0.57255    0.08465\\nH      3.88408    1.29416    0.14629\\nH      2.79182    2.28846   -0.82886\\nH      2.71377    2.36342    0.93735\\nO      2.19537   -0.59390    0.10126\\nN      0.59013    1.02699    0.05895\\nC     -0.60624    0.29815    0.04364\\nH      0.46337    2.02968    0.04757\\nC     -1.80437    1.01047    0.01777\\nC     -1.86108   -1.74887    0.03135\\nH     -1.78549    2.09153    0.01346\\nC     -3.01629    0.35366   -0.00279\\nC     -0.64533   -1.09159    0.05178\\nH      0.27418   -1.65102    0.07346\\nC     -3.05363   -1.03730    0.00247\\nH     -3.94534    0.90006   -0.02339\\nO     -4.26895   -1.65165   -0.02125\\nH     -1.88115   -2.83055    0.03727\\nH     -4.14859   -2.60876   -0.01690\\n\\n\",\"xyz\");\n\tviewer_17506865518363774.setStyle({},{\"stick\": {\"radius\": 0.1}, \"sphere\": {\"scale\": 0.3}});\n\tviewer_17506865518363774.zoomTo();\nviewer_17506865518363774.render();\n});\n</script>",
      "text/html": [
       "<div id=\"3dmolviewer_17506865518363774\"  style=\"position: relative; width: 400px; height: 400px;\">\n",
       "        <p id=\"3dmolwarning_17506865518363774\" style=\"background-color:#ffcccc;color:black\">3Dmol.js failed to load for some reason.  Please check your browser console for error messages.<br></p>\n",
       "        </div>\n",
       "<script>\n",
       "\n",
       "var loadScriptAsync = function(uri){\n",
       "  return new Promise((resolve, reject) => {\n",
       "    //this is to ignore the existence of requirejs amd\n",
       "    var savedexports, savedmodule;\n",
       "    if (typeof exports !== 'undefined') savedexports = exports;\n",
       "    else exports = {}\n",
       "    if (typeof module !== 'undefined') savedmodule = module;\n",
       "    else module = {}\n",
       "\n",
       "    var tag = document.createElement('script');\n",
       "    tag.src = uri;\n",
       "    tag.async = true;\n",
       "    tag.onload = () => {\n",
       "        exports = savedexports;\n",
       "        module = savedmodule;\n",
       "        resolve();\n",
       "    };\n",
       "  var firstScriptTag = document.getElementsByTagName('script')[0];\n",
       "  firstScriptTag.parentNode.insertBefore(tag, firstScriptTag);\n",
       "});\n",
       "};\n",
       "\n",
       "if(typeof $3Dmolpromise === 'undefined') {\n",
       "$3Dmolpromise = null;\n",
       "  $3Dmolpromise = loadScriptAsync('https://cdn.jsdelivr.net/npm/3dmol@2.5.0/build/3Dmol-min.js');\n",
       "}\n",
       "\n",
       "var viewer_17506865518363774 = null;\n",
       "var warn = document.getElementById(\"3dmolwarning_17506865518363774\");\n",
       "if(warn) {\n",
       "    warn.parentNode.removeChild(warn);\n",
       "}\n",
       "$3Dmolpromise.then(function() {\n",
       "viewer_17506865518363774 = $3Dmol.createViewer(document.getElementById(\"3dmolviewer_17506865518363774\"),{backgroundColor:\"white\"});\n",
       "viewer_17506865518363774.zoomTo();\n",
       "\tviewer_17506865518363774.addModel(\"20\\nenergy: -32.783632377928 gnorm: 0.000608672974 xtb: 6.7.1 (edcfbbe)\\nC      2.88225    1.70760    0.08636\\nC      1.87583    0.57255    0.08465\\nH      3.88408    1.29416    0.14629\\nH      2.79182    2.28846   -0.82886\\nH      2.71377    2.36342    0.93735\\nO      2.19537   -0.59390    0.10126\\nN      0.59013    1.02699    0.05895\\nC     -0.60624    0.29815    0.04364\\nH      0.46337    2.02968    0.04757\\nC     -1.80437    1.01047    0.01777\\nC     -1.86108   -1.74887    0.03135\\nH     -1.78549    2.09153    0.01346\\nC     -3.01629    0.35366   -0.00279\\nC     -0.64533   -1.09159    0.05178\\nH      0.27418   -1.65102    0.07346\\nC     -3.05363   -1.03730    0.00247\\nH     -3.94534    0.90006   -0.02339\\nO     -4.26895   -1.65165   -0.02125\\nH     -1.88115   -2.83055    0.03727\\nH     -4.14859   -2.60876   -0.01690\\n\\n\",\"xyz\");\n",
       "\tviewer_17506865518363774.setStyle({},{\"stick\": {\"radius\": 0.1}, \"sphere\": {\"scale\": 0.3}});\n",
       "\tviewer_17506865518363774.zoomTo();\n",
       "viewer_17506865518363774.render();\n",
       "});\n",
       "</script>"
      ]
     },
     "metadata": {},
     "output_type": "display_data"
    }
   ],
   "source": [
    "# > define cartesian coordinates in Angstroem as python string \n",
    "xyz_data = \"\"\"\\\n",
    "20\n",
    "energy: -32.783632377928 gnorm: 0.000608672974 xtb: 6.7.1 (edcfbbe)\n",
    "C      2.88225    1.70760    0.08636\n",
    "C      1.87583    0.57255    0.08465\n",
    "H      3.88408    1.29416    0.14629\n",
    "H      2.79182    2.28846   -0.82886\n",
    "H      2.71377    2.36342    0.93735\n",
    "O      2.19537   -0.59390    0.10126\n",
    "N      0.59013    1.02699    0.05895\n",
    "C     -0.60624    0.29815    0.04364\n",
    "H      0.46337    2.02968    0.04757\n",
    "C     -1.80437    1.01047    0.01777\n",
    "C     -1.86108   -1.74887    0.03135\n",
    "H     -1.78549    2.09153    0.01346\n",
    "C     -3.01629    0.35366   -0.00279\n",
    "C     -0.64533   -1.09159    0.05178\n",
    "H      0.27418   -1.65102    0.07346\n",
    "C     -3.05363   -1.03730    0.00247\n",
    "H     -3.94534    0.90006   -0.02339\n",
    "O     -4.26895   -1.65165   -0.02125\n",
    "H     -1.88115   -2.83055    0.03727\n",
    "H     -4.14859   -2.60876   -0.01690\n",
    "\n",
    "\"\"\"\n",
    "# > Visualize the input structure\n",
    "view = py3Dmol.view(width=400, height=400)\n",
    "view.addModel(xyz_data, 'xyz')\n",
    "view.setStyle({}, {'stick': {'radius': 0.1}, 'sphere': {'scale': 0.3}})\n",
    "view.zoomTo()\n",
    "view.show()\n",
    "\n",
    "# > Write the input structure to a file for reading\n",
    "with open(working_dir / \"paracetamol.xyz\",\"w\") as f:\n",
    "    f.write(xyz_data)\n",
    "\n",
    "basename_paracetamol = \"opencosmors_paracetamol\"\n",
    "structure_paracetamol = Structure.from_xyz(working_dir / \"paracetamol.xyz\")"
   ]
  },
  {
   "cell_type": "markdown",
   "id": "8a195773",
   "metadata": {},
   "source": [
    "### OpenCOSMO-RS calculation for Paracetamol:\n",
    "\n",
    "We can re-use the helper functions defined above:"
   ]
  },
  {
   "cell_type": "code",
   "execution_count": 9,
   "id": "32bd3d93",
   "metadata": {},
   "outputs": [
    {
     "name": "stdout",
     "output_type": "stream",
     "text": [
      "Running ORCA calculation ...   Done\n"
     ]
    }
   ],
   "source": [
    "calc = setup_calc(basename=basename_paracetamol,working_dir=working_dir,structure=structure_paracetamol)\n",
    "output = run_calc(calc)\n",
    "check_termination(output)"
   ]
  },
  {
   "cell_type": "markdown",
   "id": "1303575e",
   "metadata": {},
   "source": [
    "### Constants and solute specific experimental data\n",
    "\n",
    "Solute specific constants can be obtained for example from [NIST](https://webbook.nist.gov/cgi/cbook.cgi?ID=C103902&Mask=4#Thermo-Phase)."
   ]
  },
  {
   "cell_type": "code",
   "execution_count": 10,
   "id": "4f4d1e61",
   "metadata": {},
   "outputs": [],
   "source": [
    "R = 8.314 # > Gas constant J/(mol·K)\n",
    "TEMP = 298.15 # > Temperature for the solubility calculation (K)\n",
    "# > Solute specific: \n",
    "DELTA_H_FUSION = 27.1e3 # > Fusion enthalpy of the solute (J/mol)\n",
    "T_FUSION = 443.6 # > Fusion temperature of the solute (K), aka melting point of the solute"
   ]
  },
  {
   "cell_type": "code",
   "execution_count": null,
   "id": "65652ba9",
   "metadata": {},
   "outputs": [
    {
     "name": "stdout",
     "output_type": "stream",
     "text": [
      "Solubility Results:\n",
      "\n",
      "Solute: Paracetamol\n",
      "\n",
      "Solvent                Non-Iterative       Iterative\n",
      "Water                    7.42369e-04     1.94890e-04\n",
      "Ethanol                  1.71201e-01     9.11733e-02\n"
     ]
    }
   ],
   "source": [
    "def compute_ln_gamma(crs: COSMORS, mole_fractions: list[float], temp: float) -> float:\n",
    "    \"\"\"Compute ln(gamma) for a given composition at specified temperature using openCOSMO-RS\"\"\"\n",
    "    crs.clear_jobs()\n",
    "    crs.add_job(np.array(mole_fractions), temp, refst='pure_component')\n",
    "    return crs.calculate()['tot']['lng'][0][0]\n",
    "\n",
    "def solubility(crs: COSMORS, delta_h_fus: float, t_fus: float, temp: float, iterative: bool) -> float:\n",
    "    \"\"\"Estimate solubility from openCOSMO-RS ln(gamma)\"\"\"\n",
    "    rhs = -delta_h_fus / R * (1 / temp - 1 / t_fus)\n",
    "\n",
    "    if not iterative:\n",
    "        ln_gamma_inf = compute_ln_gamma(crs, [0.0, 1.0], temp)\n",
    "        return np.exp(rhs - ln_gamma_inf)\n",
    "    \n",
    "    def equation(x_guess: float) -> float:\n",
    "        \"\"\"Equilibrium condition to be solved\"\"\"\n",
    "        x_guess = max(1e-15, x_guess)\n",
    "        x_guess = min(1, x_guess)\n",
    "        x = np.array([x_guess, 1 - x_guess])\n",
    "        ln_gamma = compute_ln_gamma(crs, x, temp)\n",
    "        return np.abs(ln_gamma + np.log(x_guess) - rhs)\n",
    "\n",
    "    result = fsolve(equation, 1e-5)\n",
    "    \n",
    "    x_sol = max(1e-15, result[0])\n",
    "    x_sol = min(1, x_sol)\n",
    "    return x_sol\n",
    "\n",
    "def run_solubility_analysis(crs: COSMORS, solute_path: str, solvent_paths: list[str], solute_label: str, solvent_labels: list[str]) -> None:\n",
    "    \"\"\"Run solubility analysis comparing non-iterative and iterative results for given solute/solvents.\"\"\"\n",
    "    if solvent_labels is None:\n",
    "        solvent_labels = [Path(p).stem for p in solvent_paths]\n",
    "\n",
    "    print(\"Solubility Results:\\n\")\n",
    "    print(f\"Solute: {solute_label}\\n\")\n",
    "    print(f\"{'Solvent':<20} {'Non-Iterative':>15} {'Iterative':>15}\")\n",
    "\n",
    "    for solvent_path, solvent_name in zip(solvent_paths, solvent_labels):\n",
    "        crs.clear_molecules()\n",
    "        crs.add_molecule([solute_path])\n",
    "        crs.add_molecule([solvent_path])\n",
    "\n",
    "        x_non_iter = solubility(crs, DELTA_H_FUSION, T_FUSION, TEMP, iterative=False)\n",
    "        x_iter = solubility(crs, DELTA_H_FUSION, T_FUSION, TEMP, iterative=True)\n",
    "\n",
    "        print(f\"{solvent_name:<20} {x_non_iter:>15.5e} {x_iter:>15.5e}\")\n",
    "\n",
    "\n",
    "# > Set up openCOSMO-RS with the 2024a parameterization\n",
    "crs = COSMORS(par=openCOSMORS24a())\n",
    "\n",
    "# > Define file paths and labels\n",
    "solute_file = working_dir / (basename_paracetamol + '.solute.orcacosmo')\n",
    "solute_label = \"Paracetamol\"\n",
    "solvent_files = [working_dir / (basename + '.solute.orcacosmo'), working_dir / (basename + '.solvent.orcacosmo')]\n",
    "solvent_labels = [\"Water\", \"Ethanol\"]\n",
    "\n",
    "# > Run solubility analysis\n",
    "run_solubility_analysis(crs, solute_file, solvent_files, solute_label=solute_label, solvent_labels=solvent_labels)"
   ]
  }
 ],
 "metadata": {
  "kernelspec": {
   "display_name": "Python (opi-1.0)",
   "language": "python",
   "name": "opi-1.0"
  },
  "language_info": {
   "codemirror_mode": {
    "name": "ipython",
    "version": 3
   },
   "file_extension": ".py",
   "mimetype": "text/x-python",
   "name": "python",
   "nbconvert_exporter": "python",
   "pygments_lexer": "ipython3",
   "version": "3.13.0"
  }
 },
 "nbformat": 4,
 "nbformat_minor": 5
}
